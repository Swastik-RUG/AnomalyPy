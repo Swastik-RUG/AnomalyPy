{
 "cells": [
  {
   "cell_type": "code",
   "execution_count": 537,
   "metadata": {},
   "outputs": [],
   "source": [
    "import pandas as pd\n",
    "from sklearn.decomposition import PCA\n",
    "from sklearn.model_selection import train_test_split\n",
    "import numpy as np"
   ]
  },
  {
   "cell_type": "code",
   "execution_count": 544,
   "metadata": {
    "scrolled": true
   },
   "outputs": [
    {
     "data": {
      "text/plain": [
       "(12076, 235)"
      ]
     },
     "execution_count": 544,
     "metadata": {},
     "output_type": "execute_result"
    }
   ],
   "source": [
    "PATH =   r\"/home/swastik/workspace/repo/PyResearch/training/\"\n",
    "PATHTest =   r\"/home/swastik/workspace/repo/PyResearch/testing/\"\n",
    "df = pd.read_csv(PATHTest+\"part-067.csv\")\n",
    "dfTest = pd.read_csv(PATHTest+\"part-001.csv\")\n",
    "\n",
    "rawdata = pd.read_csv(PATHTest+\"part-067.csv\")\n",
    "splitData = train_test_split(rawdata, test_size= 0.3)\n",
    "\n",
    "train = splitData[0]\n",
    "test = splitData[1]\n",
    "\n",
    "np.shape(test)"
   ]
  },
  {
   "cell_type": "code",
   "execution_count": 487,
   "metadata": {},
   "outputs": [
    {
     "data": {
      "text/plain": [
       "False    40231\n",
       "True        21\n",
       "Name: isAnomaly, dtype: int64"
      ]
     },
     "execution_count": 487,
     "metadata": {},
     "output_type": "execute_result"
    }
   ],
   "source": [
    "df.isAnomaly.value_counts()"
   ]
  },
  {
   "cell_type": "code",
   "execution_count": 488,
   "metadata": {},
   "outputs": [],
   "source": [
    "from sklearn.preprocessing import StandardScaler\n",
    "\n",
    "sc = StandardScaler()\n",
    "X_train = sc.fit_transform(df.drop([\"host\", \"process\", \"timestamp\", \"isAnomaly\"], axis=\"columns\"))\n",
    "X_test = sc.transform(dfTest.drop([\"host\", \"process\", \"timestamp\", \"isAnomaly\"], axis=\"columns\"))"
   ]
  },
  {
   "cell_type": "code",
   "execution_count": 489,
   "metadata": {},
   "outputs": [],
   "source": [
    "pca = PCA(10)"
   ]
  },
  {
   "cell_type": "code",
   "execution_count": 490,
   "metadata": {},
   "outputs": [
    {
     "name": "stderr",
     "output_type": "stream",
     "text": [
      "/home/swastik/.local/lib/python3.6/site-packages/pandas/core/ops/array_ops.py:253: FutureWarning: elementwise comparison failed; returning scalar instead, but in the future will perform elementwise comparison\n",
      "  res_values = method(rvalues)\n"
     ]
    },
    {
     "data": {
      "text/plain": [
       "PCA(n_components=10)"
      ]
     },
     "execution_count": 490,
     "metadata": {},
     "output_type": "execute_result"
    }
   ],
   "source": [
    "\n",
    "df['label'] = np.where(df['isAnomaly'] == \"true\", 1, 0)\n",
    "dfTest['label'] = np.where(dfTest['isAnomaly'] == \"true\", 1, 0)\n",
    "\n",
    "pca.fit(X_train)"
   ]
  },
  {
   "cell_type": "code",
   "execution_count": 491,
   "metadata": {},
   "outputs": [],
   "source": [
    "X_pc = pca.transform(X_train)\n",
    "test_img = pca.transform(X_test)"
   ]
  },
  {
   "cell_type": "code",
   "execution_count": 492,
   "metadata": {},
   "outputs": [],
   "source": [
    "n_pcs= pca.components_.shape[0]\n",
    "\n",
    "most_important = [np.abs(pca.components_[i]).argmax() for i in range(n_pcs)]\n",
    "\n",
    "initial_feature_names = df.drop([\"host\", \"process\", \"isAnomaly\", \"timestamp\"], axis='columns').columns\n",
    "\n",
    "# get the names\n",
    "most_important_names = [initial_feature_names[most_important[i]] for i in range(n_pcs)]\n",
    "\n",
    "# using LIST COMPREHENSION HERE AGAIN\n",
    "dic = {'PC{}'.format(i+1): most_important_names[i] for i in range(n_pcs)}\n",
    "\n",
    "# build the dataframe\n",
    "dfX = pd.DataFrame(sorted(dic.items()))\n"
   ]
  },
  {
   "cell_type": "code",
   "execution_count": 493,
   "metadata": {},
   "outputs": [
    {
     "data": {
      "text/plain": [
       "<bound method NDFrame.head of       0                                                  1\n",
       "0   PC1  Connection delay : (MXBean(com.bea:Name=source...\n",
       "1  PC10  Heap usage activity : (d/dx (MXBean(java.lang:...\n",
       "2   PC2  Process CPU : (MXBean(java.lang:type=Operating...\n",
       "3   PC3  Rel. nonHeap usage : ((MXBean(java.lang:type=M...\n",
       "4   PC4  Reserve request activity : (incld/dx (MXBean(c...\n",
       "5   PC5  Active connections : (MXBean(com.bea:Name=sour...\n",
       "6   PC6  Reserve request activity : (incld/dx (MXBean(c...\n",
       "7   PC7  NonHeap usage activity : (d/dx (MXBean(java.la...\n",
       "8   PC8  Connection delay : (MXBean(com.bea:Name=source...\n",
       "9   PC9  Available db connection activity : (d/dx (MXBe...>"
      ]
     },
     "execution_count": 493,
     "metadata": {},
     "output_type": "execute_result"
    }
   ],
   "source": [
    "dfX.head"
   ]
  },
  {
   "cell_type": "code",
   "execution_count": 494,
   "metadata": {
    "scrolled": false
   },
   "outputs": [],
   "source": [
    "training=df[most_important_names + ['isAnomaly', 'timestamp']]\n",
    "test = dfTest[most_important_names + ['isAnomaly', 'timestamp']]"
   ]
  },
  {
   "cell_type": "code",
   "execution_count": 495,
   "metadata": {},
   "outputs": [
    {
     "data": {
      "text/plain": [
       "array([ 1,  1,  1, ..., -1, -1, -1])"
      ]
     },
     "metadata": {},
     "output_type": "display_data"
    },
    {
     "data": {
      "text/plain": [
       "{-1: 1033, 1: 35255}"
      ]
     },
     "execution_count": 495,
     "metadata": {},
     "output_type": "execute_result"
    }
   ],
   "source": [
    "from sklearn.ensemble import IsolationForest\n",
    "rng = np.random.RandomState(42)\n",
    "\n",
    "clf = IsolationForest(max_samples='auto', n_estimators=100, \n",
    "                      random_state=rng,\n",
    "                      max_features=1.0,\n",
    "                      #behaviour=\"new\",\n",
    "                      contamination=\"auto\")\n",
    "\n",
    "clf.fit(training[most_important_names])\n",
    "y_pred_train = clf.predict(test[most_important_names])\n",
    "display(y_pred_train)\n",
    "\n",
    "unique, counts = np.unique(y_pred_train, return_counts=True)\n",
    "predictions = dict(zip(unique, counts))\n",
    "\n",
    "predictions"
   ]
  },
  {
   "cell_type": "code",
   "execution_count": 496,
   "metadata": {},
   "outputs": [
    {
     "data": {
      "text/plain": [
       "False    36288\n",
       "Name: isAnomaly, dtype: int64"
      ]
     },
     "execution_count": 496,
     "metadata": {},
     "output_type": "execute_result"
    }
   ],
   "source": [
    "dfTest.isAnomaly.value_counts()"
   ]
  },
  {
   "cell_type": "code",
   "execution_count": 497,
   "metadata": {},
   "outputs": [
    {
     "name": "stdout",
     "output_type": "stream",
     "text": [
      "Accuracy: 0.9715332892416225\n"
     ]
    }
   ],
   "source": [
    "print(\"Accuracy:\", list(y_pred_train).count(1)/y_pred_train.shape[0])"
   ]
  },
  {
   "cell_type": "code",
   "execution_count": 498,
   "metadata": {},
   "outputs": [
    {
     "name": "stderr",
     "output_type": "stream",
     "text": [
      "/home/swastik/.local/lib/python3.6/site-packages/pandas/core/ops/array_ops.py:253: FutureWarning: elementwise comparison failed; returning scalar instead, but in the future will perform elementwise comparison\n",
      "  res_values = method(rvalues)\n"
     ]
    }
   ],
   "source": [
    "dfTest.loc[dfTest['isAnomaly'] == 'true', 'expected'] = int(-1)  \n",
    "dfTest.loc[dfTest['isAnomaly'] != 'true', 'expected'] = int(1)  "
   ]
  },
  {
   "cell_type": "code",
   "execution_count": 499,
   "metadata": {},
   "outputs": [
    {
     "data": {
      "text/plain": [
       "0.05693342151675485"
      ]
     },
     "execution_count": 499,
     "metadata": {},
     "output_type": "execute_result"
    }
   ],
   "source": [
    "from sklearn.metrics import mean_absolute_error\n",
    "\n",
    "mean_absolute_error(y_pred_train, dfTest['expected'])"
   ]
  },
  {
   "cell_type": "code",
   "execution_count": 500,
   "metadata": {},
   "outputs": [
    {
     "data": {
      "text/plain": [
       "array([[    0,  1033],\n",
       "       [    0, 35255]])"
      ]
     },
     "execution_count": 500,
     "metadata": {},
     "output_type": "execute_result"
    }
   ],
   "source": [
    "# Confusion Matrix\n",
    "from sklearn.metrics import confusion_matrix\n",
    "confusion_matrix(y_pred_train,  dfTest['expected'])# Accuracy"
   ]
  },
  {
   "cell_type": "code",
   "execution_count": 501,
   "metadata": {},
   "outputs": [
    {
     "data": {
      "text/plain": [
       "0.9715332892416225"
      ]
     },
     "execution_count": 501,
     "metadata": {},
     "output_type": "execute_result"
    }
   ],
   "source": [
    "from sklearn.metrics import accuracy_score\n",
    "accuracy_score(y_pred_train,  dfTest['expected'])# Recall"
   ]
  },
  {
   "cell_type": "code",
   "execution_count": 502,
   "metadata": {},
   "outputs": [
    {
     "data": {
      "text/plain": [
       "array([0., 1.])"
      ]
     },
     "execution_count": 502,
     "metadata": {},
     "output_type": "execute_result"
    }
   ],
   "source": [
    "from sklearn.metrics import recall_score\n",
    "recall_score(y_pred_train,  dfTest['expected'], average=None)# Precision"
   ]
  },
  {
   "cell_type": "code",
   "execution_count": 503,
   "metadata": {},
   "outputs": [
    {
     "name": "stderr",
     "output_type": "stream",
     "text": [
      "/home/swastik/.local/lib/python3.6/site-packages/sklearn/metrics/_classification.py:1221: UndefinedMetricWarning: Precision is ill-defined and being set to 0.0 in labels with no predicted samples. Use `zero_division` parameter to control this behavior.\n",
      "  _warn_prf(average, modifier, msg_start, len(result))\n"
     ]
    },
    {
     "data": {
      "text/plain": [
       "array([0.        , 0.97153329])"
      ]
     },
     "execution_count": 503,
     "metadata": {},
     "output_type": "execute_result"
    }
   ],
   "source": [
    "from sklearn.metrics import precision_score\n",
    "precision_score(y_pred_train,  dfTest['expected'], average=None)"
   ]
  },
  {
   "cell_type": "code",
   "execution_count": 504,
   "metadata": {},
   "outputs": [],
   "source": [
    "#dfTest['predicted'] = y_pred_train"
   ]
  },
  {
   "cell_type": "code",
   "execution_count": 505,
   "metadata": {},
   "outputs": [],
   "source": [
    "pca_d2 = PCA(2)\n",
    "x_fit = sc.fit_transform(dfTest.drop([\"host\", \"process\", \"timestamp\", \"isAnomaly\"], axis=\"columns\"))\n",
    "X_trans = sc.transform(dfTest.drop([\"host\", \"process\", \"timestamp\", \"isAnomaly\"], axis=\"columns\"))"
   ]
  },
  {
   "cell_type": "code",
   "execution_count": 506,
   "metadata": {},
   "outputs": [
    {
     "data": {
      "text/plain": [
       "PCA(n_components=2)"
      ]
     },
     "execution_count": 506,
     "metadata": {},
     "output_type": "execute_result"
    }
   ],
   "source": [
    "pca_d2.fit(X_trans)"
   ]
  },
  {
   "cell_type": "code",
   "execution_count": 507,
   "metadata": {},
   "outputs": [],
   "source": [
    "toPlot = pca_d2.transform(X_trans)"
   ]
  },
  {
   "cell_type": "code",
   "execution_count": 508,
   "metadata": {},
   "outputs": [],
   "source": [
    "outliers = toPlot[np.where(y_pred_train==-1)]\n",
    "normals = toPlot[np.where(y_pred_train==1)]"
   ]
  },
  {
   "cell_type": "code",
   "execution_count": 509,
   "metadata": {},
   "outputs": [
    {
     "data": {
      "text/plain": [
       "<matplotlib.collections.PathCollection at 0x7f7be26e27b8>"
      ]
     },
     "execution_count": 509,
     "metadata": {},
     "output_type": "execute_result"
    },
    {
     "data": {
      "image/png": "[encoded data removed]",
      "text/plain": [
       "<Figure size 432x288 with 1 Axes>"
      ]
     },
     "metadata": {
      "needs_background": "light"
     },
     "output_type": "display_data"
    }
   ],
   "source": [
    "fig = plt.figure()\n",
    "ax1 = fig.add_subplot(111)\n",
    "#ax1.scatter(otulierIndx[:,0], otulierIndx[:,1])\n",
    "#ax1.scatter(normalIndx[:,0], normalIndx[:,1])\n",
    "ax1.scatter(outliers[:,0], outliers[:,1])"
   ]
  },
  {
   "cell_type": "code",
   "execution_count": 529,
   "metadata": {},
   "outputs": [
    {
     "data": {
      "text/plain": [
       "<matplotlib.collections.PathCollection at 0x7f7bdde69550>"
      ]
     },
     "execution_count": 529,
     "metadata": {},
     "output_type": "execute_result"
    },
    {
     "data": {
      "image/png": "[encoded data removed]",
      "text/plain": [
       "<Figure size 432x288 with 1 Axes>"
      ]
     },
     "metadata": {
      "needs_background": "light"
     },
     "output_type": "display_data"
    }
   ],
   "source": [
    "fig = plt.figure()\n",
    "ax1 = fig.add_subplot(111)\n",
    "#ax1.scatter(otulierIndx[:,0], otulierIndx[:,1])\n",
    "ax1.scatter(outliers[:,0], outliers[:,1])\n",
    "ax1.scatter(normals[:,0], normals[:,1])"
   ]
  },
  {
   "cell_type": "code",
   "execution_count": 514,
   "metadata": {
    "scrolled": true
   },
   "outputs": [],
   "source": [
    "anomaly = df[df['isAnomaly']==True]\n",
    "norm = df[df['isAnomaly']==False]"
   ]
  },
  {
   "cell_type": "code",
   "execution_count": 516,
   "metadata": {},
   "outputs": [],
   "source": [
    "a = pca_d2.fit_transform(anomaly[most_important_names])\n",
    "n = pca_d2.fit_transform(norm[most_important_names])"
   ]
  },
  {
   "cell_type": "code",
   "execution_count": 527,
   "metadata": {},
   "outputs": [
    {
     "data": {
      "text/plain": [
       "<matplotlib.collections.PathCollection at 0x7f7bdde97048>"
      ]
     },
     "execution_count": 527,
     "metadata": {},
     "output_type": "execute_result"
    },
    {
     "data": {
      "image/png": "[encoded data removed]",
      "text/plain": [
       "<Figure size 432x288 with 1 Axes>"
      ]
     },
     "metadata": {
      "needs_background": "light"
     },
     "output_type": "display_data"
    }
   ],
   "source": [
    "fig = plt.figure()\n",
    "ax1 = fig.add_subplot(111)\n",
    "#ax1.scatter(otulierIndx[:,0], otulierIndx[:,1])\n",
    "#ax1.scatter(n[:,0], n[:,1])\n",
    "ax1.scatter(a[:,0], a[:,1])"
   ]
  },
  {
   "cell_type": "code",
   "execution_count": 536,
   "metadata": {},
   "outputs": [
    {
     "data": {
      "text/plain": [
       "0        False\n",
       "1        False\n",
       "2        False\n",
       "3        False\n",
       "4        False\n",
       "         ...  \n",
       "40247    False\n",
       "40248    False\n",
       "40249    False\n",
       "40250    False\n",
       "40251    False\n",
       "Name: isAnomaly, Length: 40252, dtype: bool"
      ]
     },
     "execution_count": 536,
     "metadata": {},
     "output_type": "execute_result"
    }
   ],
   "source": [
    "df['isAnomaly']==True"
   ]
  }
 ],
 "metadata": {
  "kernelspec": {
   "display_name": "Python 3",
   "language": "python",
   "name": "python3"
  },
  "language_info": {
   "codemirror_mode": {
    "name": "ipython",
    "version": 3
   },
   "file_extension": ".py",
   "mimetype": "text/x-python",
   "name": "python",
   "nbconvert_exporter": "python",
   "pygments_lexer": "ipython3",
   "version": "3.6.9"
  }
 },
 "nbformat": 4,
 "nbformat_minor": 2
}
