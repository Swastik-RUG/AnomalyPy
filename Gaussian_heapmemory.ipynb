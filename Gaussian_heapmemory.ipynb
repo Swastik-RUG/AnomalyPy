{
 "cells": [
  {
   "cell_type": "code",
   "execution_count": 2,
   "metadata": {},
   "outputs": [],
   "source": [
    "import pandas as pd\n",
    "from sklearn.decomposition import PCA\n",
    "from sklearn.model_selection import train_test_split\n",
    "import numpy as np\n",
    "import matplotlib.pyplot as plt\n",
    "import seaborn as sns\n",
    "from sklearn.ensemble import IsolationForest\n"
   ]
  },
  {
   "cell_type": "code",
   "execution_count": 3,
   "metadata": {},
   "outputs": [],
   "source": [
    "PATH =   r\"training/\"\n",
    "PATHTest =   r\"testing/\"\n",
    "\n",
    "rawdata = pd.read_csv(PATHTest+\"part-067.csv\")\n",
    "splitData = train_test_split(rawdata, test_size= 0.3)\n",
    "rng = np.random.RandomState(42)\n",
    "train = splitData[0]\n",
    "test = splitData[1]\n",
    "most_important_names= ['Heap usage activity : (d/dx (MXBean(java.lang:type=Memory).HeapMemoryUsage.used))']\n"
   ]
  },
  {
   "cell_type": "code",
   "execution_count": 4,
   "metadata": {},
   "outputs": [
    {
     "ename": "NameError",
     "evalue": "name 'StandardScaler' is not defined",
     "output_type": "error",
     "traceback": [
      "\u001b[1;31m---------------------------------------------------------------------------\u001b[0m",
      "\u001b[1;31mNameError\u001b[0m                                 Traceback (most recent call last)",
      "\u001b[1;32m<ipython-input-4-0d80f298f599>\u001b[0m in \u001b[0;36m<module>\u001b[1;34m\u001b[0m\n\u001b[1;32m----> 1\u001b[1;33m \u001b[0msc\u001b[0m \u001b[1;33m=\u001b[0m \u001b[0mStandardScaler\u001b[0m\u001b[1;33m(\u001b[0m\u001b[1;33m)\u001b[0m\u001b[1;33m\u001b[0m\u001b[1;33m\u001b[0m\u001b[0m\n\u001b[0m\u001b[0;32m      2\u001b[0m \u001b[0mX_train\u001b[0m \u001b[1;33m=\u001b[0m \u001b[0msc\u001b[0m\u001b[1;33m.\u001b[0m\u001b[0mfit_transform\u001b[0m\u001b[1;33m(\u001b[0m\u001b[0mdf\u001b[0m\u001b[1;33m.\u001b[0m\u001b[0mdrop\u001b[0m\u001b[1;33m(\u001b[0m\u001b[1;33m[\u001b[0m\u001b[1;34m\"host\"\u001b[0m\u001b[1;33m,\u001b[0m \u001b[1;34m\"process\"\u001b[0m\u001b[1;33m,\u001b[0m \u001b[1;34m\"timestamp\"\u001b[0m\u001b[1;33m,\u001b[0m \u001b[1;34m\"isAnomaly\"\u001b[0m\u001b[1;33m]\u001b[0m\u001b[1;33m,\u001b[0m \u001b[0maxis\u001b[0m\u001b[1;33m=\u001b[0m\u001b[1;34m\"columns\"\u001b[0m\u001b[1;33m)\u001b[0m\u001b[1;33m)\u001b[0m\u001b[1;33m\u001b[0m\u001b[1;33m\u001b[0m\u001b[0m\n",
      "\u001b[1;31mNameError\u001b[0m: name 'StandardScaler' is not defined"
     ]
    }
   ],
   "source": [
    "sc = StandardScaler()\n",
    "X_train = sc.fit_transform(df.drop([\"host\", \"process\", \"timestamp\", \"isAnomaly\"], axis=\"columns\"))"
   ]
  },
  {
   "cell_type": "code",
   "execution_count": null,
   "metadata": {},
   "outputs": [],
   "source": [
    "normal = rawdata.loc[rawdata['isAnomaly'] == False, 'Heap usage activity : (d/dx (MXBean(java.lang:type=Memory).HeapMemoryUsage.used))']\n",
    "anomaly = rawdata.loc[rawdata['isAnomaly'] == True, 'Heap usage activity : (d/dx (MXBean(java.lang:type=Memory).HeapMemoryUsage.used))']"
   ]
  },
  {
   "cell_type": "code",
   "execution_count": null,
   "metadata": {},
   "outputs": [],
   "source": [
    "expected = np.where(test['isAnomaly'] == True, -1, 1)\n"
   ]
  },
  {
   "cell_type": "code",
   "execution_count": null,
   "metadata": {},
   "outputs": [],
   "source": [
    "fig, axs = plt.subplots(1,2)\n",
    "normal.hist(ax=axs[0],bins=10)\n",
    "anomaly.hist(ax=axs[1],bins=10, color='red')"
   ]
  },
  {
   "cell_type": "code",
   "execution_count": null,
   "metadata": {},
   "outputs": [],
   "source": [
    "# fig, ax = plt.subplots()\n",
    "# a = rawdata.loc[rawdata['isAnomaly'] == True, ('timestamp', 'Heap usage activity : (d/dx (MXBean(java.lang:type=Memory).HeapMemoryUsage.used))')] #anomaly\n",
    "\n",
    "# # ax.plot(rawdata['timestamp'], rawdata['Heap usage activity : (d/dx (MXBean(java.lang:type=Memory).HeapMemoryUsage.used))'], color='blue')\n",
    "# # ax.scatter(a['timestamp'],a['Heap usage activity : (d/dx (MXBean(java.lang:type=Memory).HeapMemoryUsage.used))'], color='red')\n",
    "\n",
    "# rawdata.plot(kind='line',x='timestamp',y='Heap usage activity : (d/dx (MXBean(java.lang:type=Memory).HeapMemoryUsage.used))',color='red')"
   ]
  },
  {
   "cell_type": "code",
   "execution_count": 82,
   "metadata": {},
   "outputs": [
    {
     "data": {
      "image/png": "[encoded data removed]",
      "text/plain": [
       "<Figure size 432x288 with 1 Axes>"
      ]
     },
     "metadata": {},
     "output_type": "display_data"
    }
   ],
   "source": [
    "sns.set_style(\"darkgrid\")\n",
    "epochs = range(0, rd.shape[0])\n",
    "rawdata['epochs'] = epochs\n",
    "a = rawdata.loc[rawdata['isAnomaly'] == True, ('epochs', 'Heap usage activity : (d/dx (MXBean(java.lang:type=Memory).HeapMemoryUsage.used))')].to_numpy() #anomaly\n",
    "rd = rawdata[['epochs', 'Heap usage activity : (d/dx (MXBean(java.lang:type=Memory).HeapMemoryUsage.used))']].to_numpy()\n",
    "\n",
    "x = rawdata.loc[rawdata.isAnomaly==True].index.tolist\n",
    "plt.plot(epochs, rd[:,1], color='blue', alpha=0.4)\n",
    "plt.scatter(a[:,0], a[:,1], color='red')\n",
    "plt.show()\n"
   ]
  },
  {
   "cell_type": "code",
   "execution_count": 83,
   "metadata": {},
   "outputs": [
    {
     "data": {
      "text/plain": [
       "(21, 2)"
      ]
     },
     "execution_count": 83,
     "metadata": {},
     "output_type": "execute_result"
    }
   ],
   "source": []
  },
  {
   "cell_type": "code",
   "execution_count": null,
   "metadata": {},
   "outputs": [],
   "source": []
  }
 ],
 "metadata": {
  "kernelspec": {
   "display_name": "Python 3",
   "language": "python",
   "name": "python3"
  },
  "language_info": {
   "codemirror_mode": {
    "name": "ipython",
    "version": 3
   },
   "file_extension": ".py",
   "mimetype": "text/x-python",
   "name": "python",
   "nbconvert_exporter": "python",
   "pygments_lexer": "ipython3",
   "version": "3.7.4"
  }
 },
 "nbformat": 4,
 "nbformat_minor": 2
}
